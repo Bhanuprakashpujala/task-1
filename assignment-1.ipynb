{
 "cells": [
  {
   "cell_type": "code",
   "execution_count": 2,
   "id": "de5321cf",
   "metadata": {},
   "outputs": [
    {
     "name": "stdout",
     "output_type": "stream",
     "text": [
      "enter a string :BHANU\n"
     ]
    },
    {
     "data": {
      "text/plain": [
       "'bhanu'"
      ]
     },
     "execution_count": 2,
     "metadata": {},
     "output_type": "execute_result"
    }
   ],
   "source": [
    "# write a python program to convert a string to lower case.\n",
    "a=input(\"enter a string :\")\n",
    "a.lower()"
   ]
  },
  {
   "cell_type": "code",
   "execution_count": 3,
   "id": "9f812413",
   "metadata": {},
   "outputs": [
    {
     "name": "stdout",
     "output_type": "stream",
     "text": [
      "enter a string :BHANU\n",
      "BhAnU\n"
     ]
    }
   ],
   "source": [
    "# write a python program to convert only odd indexed charecters to lower case.\n",
    "b=input(\"enter a string :\")\n",
    "str1=\"\"\n",
    "for i in range(0,len(b)):\n",
    "    if i%2!=0:\n",
    "        str1=str1+b[i].lower()\n",
    "    else:\n",
    "        str1=str1+b[i].upper()\n",
    "print(str1)      \n",
    "\n"
   ]
  },
  {
   "cell_type": "code",
   "execution_count": 8,
   "id": "b8038bf7",
   "metadata": {},
   "outputs": [
    {
     "name": "stdout",
     "output_type": "stream",
     "text": [
      "enter a string :BHANU\n",
      "BhAnU\n"
     ]
    }
   ],
   "source": [
    "# WRITE A PYTHON PROGRAM TO CONVERT ONLY EVEN INDEXED CHARECTERS TO LOWERCASE.\n",
    "b=input(\"enter a string :\")\n",
    "str1=\"\"\n",
    "for i in range(0,len(b)):\n",
    "    if i%2!=0:\n",
    "        str1=str1+b[i].lower()\n",
    "    else:\n",
    "        str1=str1+b[i].upper()\n",
    "print(str1) "
   ]
  },
  {
   "cell_type": "code",
   "execution_count": 1,
   "id": "3ef9031e",
   "metadata": {},
   "outputs": [
    {
     "name": "stdout",
     "output_type": "stream",
     "text": [
      "enter a string :bhanu\n",
      "bHaNu\n"
     ]
    }
   ],
   "source": [
    "#Write a python program to convert only odd indexed characters to upper case\n",
    "b=input(\"enter a string :\")\n",
    "str1=\"\"\n",
    "for i in range(0,len(b)):\n",
    "    if i%2!=0:\n",
    "        str1=str1+b[i].upper()\n",
    "    else:\n",
    "        str1=str1+b[i].lower()\n",
    "print(str1) "
   ]
  },
  {
   "cell_type": "code",
   "execution_count": 2,
   "id": "319b4785",
   "metadata": {},
   "outputs": [
    {
     "name": "stdout",
     "output_type": "stream",
     "text": [
      "enter a string :bhanu\n",
      "BhAnU\n"
     ]
    }
   ],
   "source": [
    "#Write a python program to convert only even indexed characters to upper case\n",
    "b=input(\"enter a string :\")\n",
    "str1=\"\"\n",
    "for i in range(0,len(b)):\n",
    "    if i%2==0:\n",
    "        str1=str1+b[i].upper()\n",
    "    else:\n",
    "        str1=str1+b[i].lower()\n",
    "print(str1)      \n",
    "\n"
   ]
  },
  {
   "cell_type": "code",
   "execution_count": 7,
   "id": "c3112933",
   "metadata": {},
   "outputs": [
    {
     "name": "stdout",
     "output_type": "stream",
     "text": [
      "enter your name bhanuprakash\n",
      "enter your gender male\n",
      "eneter your age  22\n",
      "eter your phone number 9398062171\n",
      "enter your father name ramulu\n",
      "enter your mother name anasurya\n"
     ]
    },
    {
     "data": {
      "text/plain": [
       "'my name is bhanuprakash my age is 22 i am a male and my phone number is 9398062171 my father name is ramulu my mother name is anasurya'"
      ]
     },
     "execution_count": 7,
     "metadata": {},
     "output_type": "execute_result"
    }
   ],
   "source": [
    "#.Write a python program where you have different variable which contains your name ,sex,age, phone no ,fathers name and mothers name.And by using this variable create a variable named bio-data where you will use all this variable\n",
    "name=input(\"enter your name \")\n",
    "gender=input(\"enter your gender \")\n",
    "age=(input(\"eneter your age  \"))\n",
    "phone_no=(input(\"eter your phone number \"))\n",
    "father_name=input(\"enter your father name \")\n",
    "mother_name=input(\"enter your mother name \")\n",
    "bio_data=\"my name is \"+name+\" my age is \"+age+\" i am a \"+gender+\" and my phone number is \"+phone_no+\" my father name is \"+father_name+\" my mother name is \"+mother_name+\"\"\n",
    "bio_data\n"
   ]
  },
  {
   "cell_type": "code",
   "execution_count": 8,
   "id": "d86f61c0",
   "metadata": {},
   "outputs": [
    {
     "data": {
      "text/plain": [
       "3"
      ]
     },
     "execution_count": 8,
     "metadata": {},
     "output_type": "execute_result"
    }
   ],
   "source": [
    "# .Write a python program to count how many times “@” occurred \n",
    "a=\"name1.@gmail.com,name2.@gmail.com,name3.@gmail.com\"\n",
    "a.count(\"@\")"
   ]
  },
  {
   "cell_type": "code",
   "execution_count": 39,
   "id": "e4d3f88d",
   "metadata": {},
   "outputs": [
    {
     "name": "stdout",
     "output_type": "stream",
     "text": [
      "name1 name2 name3\n"
     ]
    }
   ],
   "source": [
    "# Write a python program to get only names from the string \n",
    "s1=\"name1.@gmail.com,name2.@gmail.com,name3.@gmail.com\"\n",
    "s1=s1.split(\".\")\n",
    "print(s1[0],s1[2][4:],s1[4][4:])\n"
   ]
  },
  {
   "cell_type": "code",
   "execution_count": 16,
   "id": "3f32b9b6",
   "metadata": {},
   "outputs": [
    {
     "data": {
      "text/plain": [
       "'pra'"
      ]
     },
     "execution_count": 16,
     "metadata": {},
     "output_type": "execute_result"
    }
   ],
   "source": [
    "# Given a string of odd length greater that 9,return a new string made of the middle three characters of a given String\n",
    "name=\"bhanuprakash\"\n",
    "b=int(len(name)/2)\n",
    "name[b-1:b+2]\n",
    "\n"
   ]
  },
  {
   "cell_type": "code",
   "execution_count": 20,
   "id": "d8e963c8",
   "metadata": {},
   "outputs": [
    {
     "data": {
      "text/plain": [
       "'bhprakashanu'"
      ]
     },
     "execution_count": 20,
     "metadata": {},
     "output_type": "execute_result"
    }
   ],
   "source": [
    "#  Write a python program to insert a 2 stringin the middle of 1 string\n",
    "a=\"bhanu\"\n",
    "b=\"prakash\"\n",
    "d=a[0:len(a)//2]+b+a[len(a)//2:]\n",
    "d"
   ]
  },
  {
   "cell_type": "code",
   "execution_count": 34,
   "id": "59c510f8",
   "metadata": {},
   "outputs": [
    {
     "data": {
      "text/plain": [
       "'bcdfghjklmnpqrstvwxyz'"
      ]
     },
     "execution_count": 34,
     "metadata": {},
     "output_type": "execute_result"
    }
   ],
   "source": [
    "#  Write a program to remove vowels from the entire alphabets \n",
    "a=\"abcdefghijklmnopqrstuvwxyz\"\n",
    "b=a.replace(\"a\",\"\")\n",
    "c=b.replace(\"e\",\"\")\n",
    "d=c.replace(\"i\",\"\")\n",
    "e=d.replace(\"o\",\"\")\n",
    "f=e.replace(\"u\",\"\")\n",
    "f\n"
   ]
  },
  {
   "cell_type": "code",
   "execution_count": null,
   "id": "6ecad1a9",
   "metadata": {},
   "outputs": [],
   "source": []
  }
 ],
 "metadata": {
  "kernelspec": {
   "display_name": "Python 3 (ipykernel)",
   "language": "python",
   "name": "python3"
  },
  "language_info": {
   "codemirror_mode": {
    "name": "ipython",
    "version": 3
   },
   "file_extension": ".py",
   "mimetype": "text/x-python",
   "name": "python",
   "nbconvert_exporter": "python",
   "pygments_lexer": "ipython3",
   "version": "3.9.13"
  }
 },
 "nbformat": 4,
 "nbformat_minor": 5
}
